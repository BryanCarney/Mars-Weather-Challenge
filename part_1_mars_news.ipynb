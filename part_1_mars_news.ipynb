{
 "cells": [
  {
   "attachments": {},
   "cell_type": "markdown",
   "metadata": {},
   "source": [
    "# Module 11 Challenge\n",
    "## Deliverable 1: Scrape Titles and Preview Text from Mars News"
   ]
  },
  {
   "cell_type": "code",
   "execution_count": 1,
   "metadata": {},
   "outputs": [],
   "source": [
    "# Import Splinter and BeautifulSoup\n",
    "from splinter import Browser\n",
    "from bs4 import BeautifulSoup"
   ]
  },
  {
   "cell_type": "code",
   "execution_count": 2,
   "metadata": {
    "scrolled": true
   },
   "outputs": [],
   "source": [
    "browser = Browser('chrome')"
   ]
  },
  {
   "attachments": {},
   "cell_type": "markdown",
   "metadata": {},
   "source": [
    "### Step 1: Visit the Website\n",
    "\n",
    "1. Use automated browsing to visit the [Mars news site](https://static.bc-edx.com/data/web/mars_news/index.html). Inspect the page to identify which elements to scrape.\n",
    "\n",
    "      > **Hint** To identify which elements to scrape, you might want to inspect the page by using Chrome DevTools."
   ]
  },
  {
   "cell_type": "code",
   "execution_count": 3,
   "metadata": {},
   "outputs": [],
   "source": [
    "# Visit the Mars news site\n",
    "url = 'https://static.bc-edx.com/data/web/mars_news/index.html'\n",
    "browser.visit(url)"
   ]
  },
  {
   "attachments": {},
   "cell_type": "markdown",
   "metadata": {},
   "source": [
    "### Step 2: Scrape the Website\n",
    "\n",
    "Create a Beautiful Soup object and use it to extract text elements from the website."
   ]
  },
  {
   "cell_type": "code",
   "execution_count": 5,
   "metadata": {},
   "outputs": [],
   "source": [
    "# Create a Beautiful Soup object\n",
    "html = browser.html\n",
    "soup = BeautifulSoup(html, 'html.parser')"
   ]
  },
  {
   "cell_type": "code",
   "execution_count": 8,
   "metadata": {},
   "outputs": [
    {
     "name": "stdout",
     "output_type": "stream",
     "text": [
      "News Article Title: NASA's MAVEN Observes Martian Light Show Caused by Major Solar Storm\n",
      "News Article Summary: For the first time in its eight years orbiting Mars, NASA’s MAVEN mission witnessed two different types of ultraviolet aurorae simultaneously, the result of solar storms that began on Aug. 27.\n",
      "\n",
      "News Article Title: NASA Prepares to Say 'Farewell' to InSight Spacecraft\n",
      "News Article Summary: A closer look at what goes into wrapping up the mission as the spacecraft’s power supply continues to dwindle.\n",
      "\n",
      "News Article Title: NASA and ESA Agree on Next Steps to Return Mars Samples to Earth\n",
      "News Article Summary: The agency’s Perseverance rover will establish the first sample depot on Mars.\n",
      "\n",
      "News Article Title: NASA's InSight Lander Detects Stunning Meteoroid Impact on Mars\n",
      "News Article Summary: The agency’s lander felt the ground shake during the impact while cameras aboard the Mars Reconnaissance Orbiter spotted the yawning new crater from space.\n",
      "\n",
      "News Article Title: NASA To Host Briefing on InSight, Mars Reconnaissance Orbiter Findings\n",
      "News Article Summary: Scientists from two Mars missions will discuss how they combined images and data for a major finding on the Red Planet.\n",
      "\n",
      "News Article Title: Why NASA Is Trying To Crash Land on Mars\n",
      "News Article Summary: Like a car’s crumple zone, the experimental SHIELD lander is designed to absorb a hard impact.\n",
      "\n",
      "News Article Title: Curiosity Mars Rover Reaches Long-Awaited Salty Region\n",
      "News Article Summary: After years of climbing, the Mars rover has arrived at a special region believed to have formed as Mars’ climate was drying.\n",
      "\n",
      "News Article Title: Mars Mission Shields Up for Tests\n",
      "News Article Summary: Protecting Mars Sample Return spacecraft from micrometeorites requires high-caliber work.\n",
      "\n",
      "News Article Title: NASA's InSight Waits Out Dust Storm\n",
      "News Article Summary: InSight’s team is taking steps to help the solar-powered lander continue operating for as long as possible.\n",
      "\n",
      "News Article Title: NASA's InSight 'Hears' Its First Meteoroid Impacts on Mars\n",
      "News Article Summary: The Mars lander’s seismometer has picked up vibrations from four separate impacts in the past two years.\n",
      "\n",
      "News Article Title: NASA's Perseverance Rover Investigates Geologically Rich Mars Terrain\n",
      "News Article Summary: The latest findings provide greater detail on a region of the Red Planet that has a watery past and is yielding promising samples for the NASA-ESA Mars Sample Return campaign.\n",
      "\n",
      "News Article Title: NASA to Host Briefing on Perseverance Mars Rover Mission Operations\n",
      "News Article Summary: Members of the mission will discuss the rover’s activities as it gathers samples in an ancient river delta.\n",
      "\n",
      "News Article Title: NASA's Perseverance Makes New Discoveries in Mars' Jezero Crater\n",
      "News Article Summary: The rover found that Jezero Crater’s floor is made up of volcanic rocks that have interacted with water.\n",
      "\n",
      "News Article Title: 10 Years Since Landing, NASA's Curiosity Mars Rover Still Has Drive\n",
      "News Article Summary: Despite signs of wear, the intrepid spacecraft is about to start an exciting new chapter of its mission as it climbs a Martian mountain.\n",
      "\n",
      "News Article Title: SAM's Top 5 Discoveries Aboard NASA's Curiosity Rover at Mars\n",
      "News Article Summary: “Selfie” of the Curiosity rover with inset showing the SAM instrument prior to installation on the rover.\n",
      "\n"
     ]
    }
   ],
   "source": [
    "# Extract all the text elements\n",
    "news_title = soup.find('div', id = \"news\")\n",
    "articles = news_title.find_all('div', class_=\"col-md-12\")\n",
    "\n",
    "for article in articles:\n",
    "    title = article.find('div', class_=\"content_title\").get_text()\n",
    "    summary = article.find('div', class_=\"article_teaser_body\").get_text()\n",
    "    print(f\"News Article Title: {title}\\nNews Article Summary: {summary}\\n\")"
   ]
  },
  {
   "attachments": {},
   "cell_type": "markdown",
   "metadata": {},
   "source": [
    "### Step 3: Store the Results\n",
    "\n",
    "Extract the titles and preview text of the news articles that you scraped. Store the scraping results in Python data structures as follows:\n",
    "\n",
    "* Store each title-and-preview pair in a Python dictionary. And, give each dictionary two keys: `title` and `preview`. An example is the following:\n",
    "\n",
    "  ```python\n",
    "  {'title': \"NASA's MAVEN Observes Martian Light Show Caused by Major Solar Storm\", \n",
    "   'preview': \"For the first time in its eight years orbiting Mars, NASA’s MAVEN mission witnessed two different types of ultraviolet aurorae simultaneously, the result of solar storms that began on Aug. 27.\"\n",
    "  }\n",
    "  ```\n",
    "\n",
    "* Store all the dictionaries in a Python list.\n",
    "\n",
    "* Print the list in your notebook."
   ]
  },
  {
   "cell_type": "code",
   "execution_count": 17,
   "metadata": {},
   "outputs": [],
   "source": [
    "# Create an empty list to store the dictionaries\n",
    "news_articles = []"
   ]
  },
  {
   "cell_type": "code",
   "execution_count": 18,
   "metadata": {},
   "outputs": [],
   "source": [
    "# Loop through the text elements\n",
    "for article in articles:\n",
    "    \n",
    "# Extract the title and preview text from the elements\n",
    "    title = article.find('div', class_=\"content_title\").get_text()\n",
    "    summary = article.find('div', class_=\"article_teaser_body\").get_text()\n",
    "\n",
    "# Store each title and preview pair in a dictionary\n",
    "    news_dict = {\"News Article Title\": title, \"News Article Summary\": summary}\n",
    "\n",
    "# Add the dictionary to the list\n",
    "    news_articles.append(news_dict)"
   ]
  },
  {
   "cell_type": "code",
   "execution_count": 19,
   "metadata": {},
   "outputs": [
    {
     "data": {
      "text/plain": [
       "[{'News Article Title': \"NASA's MAVEN Observes Martian Light Show Caused by Major Solar Storm\",\n",
       "  'News Article Summary': 'For the first time in its eight years orbiting Mars, NASA’s MAVEN mission witnessed two different types of ultraviolet aurorae simultaneously, the result of solar storms that began on Aug. 27.'},\n",
       " {'News Article Title': \"NASA Prepares to Say 'Farewell' to InSight Spacecraft\",\n",
       "  'News Article Summary': 'A closer look at what goes into wrapping up the mission as the spacecraft’s power supply continues to dwindle.'},\n",
       " {'News Article Title': 'NASA and ESA Agree on Next Steps to Return Mars Samples to Earth',\n",
       "  'News Article Summary': 'The agency’s Perseverance rover will establish the first sample depot on Mars.'},\n",
       " {'News Article Title': \"NASA's InSight Lander Detects Stunning Meteoroid Impact on Mars\",\n",
       "  'News Article Summary': 'The agency’s lander felt the ground shake during the impact while cameras aboard the Mars Reconnaissance Orbiter spotted the yawning new crater from space.'},\n",
       " {'News Article Title': 'NASA To Host Briefing on InSight, Mars Reconnaissance Orbiter Findings',\n",
       "  'News Article Summary': 'Scientists from two Mars missions will discuss how they combined images and data for a major finding on the Red Planet.'},\n",
       " {'News Article Title': 'Why NASA Is Trying To Crash Land on Mars',\n",
       "  'News Article Summary': 'Like a car’s crumple zone, the experimental SHIELD lander is designed to absorb a hard impact.'},\n",
       " {'News Article Title': 'Curiosity Mars Rover Reaches Long-Awaited Salty Region',\n",
       "  'News Article Summary': 'After years of climbing, the Mars rover has arrived at a special region believed to have formed as Mars’ climate was drying.'},\n",
       " {'News Article Title': 'Mars Mission Shields Up for Tests',\n",
       "  'News Article Summary': 'Protecting Mars Sample Return spacecraft from micrometeorites requires high-caliber work.'},\n",
       " {'News Article Title': \"NASA's InSight Waits Out Dust Storm\",\n",
       "  'News Article Summary': 'InSight’s team is taking steps to help the solar-powered lander continue operating for as long as possible.'},\n",
       " {'News Article Title': \"NASA's InSight 'Hears' Its First Meteoroid Impacts on Mars\",\n",
       "  'News Article Summary': 'The Mars lander’s seismometer has picked up vibrations from four separate impacts in the past two years.'},\n",
       " {'News Article Title': \"NASA's Perseverance Rover Investigates Geologically Rich Mars Terrain\",\n",
       "  'News Article Summary': 'The latest findings provide greater detail on a region of the Red Planet that has a watery past and is yielding promising samples for the NASA-ESA Mars Sample Return campaign.'},\n",
       " {'News Article Title': 'NASA to Host Briefing on Perseverance Mars Rover Mission Operations',\n",
       "  'News Article Summary': 'Members of the mission will discuss the rover’s activities as it gathers samples in an ancient river delta.'},\n",
       " {'News Article Title': \"NASA's Perseverance Makes New Discoveries in Mars' Jezero Crater\",\n",
       "  'News Article Summary': 'The rover found that Jezero Crater’s floor is made up of volcanic rocks that have interacted with water.'},\n",
       " {'News Article Title': \"10 Years Since Landing, NASA's Curiosity Mars Rover Still Has Drive\",\n",
       "  'News Article Summary': 'Despite signs of wear, the intrepid spacecraft is about to start an exciting new chapter of its mission as it climbs a Martian mountain.'},\n",
       " {'News Article Title': \"SAM's Top 5 Discoveries Aboard NASA's Curiosity Rover at Mars\",\n",
       "  'News Article Summary': '“Selfie” of the Curiosity rover with inset showing the SAM instrument prior to installation on the rover.'}]"
      ]
     },
     "execution_count": 19,
     "metadata": {},
     "output_type": "execute_result"
    }
   ],
   "source": [
    "# Print the list to confirm success\n",
    "news_articles"
   ]
  },
  {
   "cell_type": "code",
   "execution_count": 20,
   "metadata": {},
   "outputs": [],
   "source": [
    "browser.quit()"
   ]
  },
  {
   "cell_type": "code",
   "execution_count": null,
   "metadata": {},
   "outputs": [],
   "source": []
  }
 ],
 "metadata": {
  "kernelspec": {
   "display_name": "dev",
   "language": "python",
   "name": "python3"
  },
  "language_info": {
   "codemirror_mode": {
    "name": "ipython",
    "version": 3
   },
   "file_extension": ".py",
   "mimetype": "text/x-python",
   "name": "python",
   "nbconvert_exporter": "python",
   "pygments_lexer": "ipython3",
   "version": "3.10.15"
  }
 },
 "nbformat": 4,
 "nbformat_minor": 4
}
